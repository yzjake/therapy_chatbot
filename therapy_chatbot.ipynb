{
 "cells": [
  {
   "cell_type": "code",
   "execution_count": null,
   "metadata": {},
   "outputs": [],
   "source": [
    "##Class: ANLY-580_03\n",
    "##Professor: Trevor Adriaanse\n",
    "##Topic: Therapy Chatbot\n",
    "##Team Member: Xinran Zhang, Qian Chen, Ting Huang, Yifan(Jake) Zhu"
   ]
  },
  {
   "cell_type": "code",
   "execution_count": 1,
   "metadata": {},
   "outputs": [],
   "source": [
    "#Load necessary packages\n",
    "import numpy as np\n",
    "import pandas as pd \n"
   ]
  },
  {
   "cell_type": "code",
   "execution_count": 5,
   "metadata": {},
   "outputs": [],
   "source": [
    "#Create dataframe \n",
    "example = ('hello,'*3)"
   ]
  },
  {
   "cell_type": "code",
   "execution_count": 19,
   "metadata": {},
   "outputs": [
    {
     "data": {
      "text/html": [
       "<div>\n",
       "<style scoped>\n",
       "    .dataframe tbody tr th:only-of-type {\n",
       "        vertical-align: middle;\n",
       "    }\n",
       "\n",
       "    .dataframe tbody tr th {\n",
       "        vertical-align: top;\n",
       "    }\n",
       "\n",
       "    .dataframe thead th {\n",
       "        text-align: right;\n",
       "    }\n",
       "</style>\n",
       "<table border=\"1\" class=\"dataframe\">\n",
       "  <thead>\n",
       "    <tr style=\"text-align: right;\">\n",
       "      <th></th>\n",
       "      <th>tag</th>\n",
       "      <th>patterns</th>\n",
       "      <th>responses</th>\n",
       "    </tr>\n",
       "  </thead>\n",
       "  <tbody>\n",
       "    <tr>\n",
       "      <th>0</th>\n",
       "      <td>worthless</td>\n",
       "      <td>I feel so worthless.</td>\n",
       "      <td>It's only natural to feel this way. Tell me mo...</td>\n",
       "    </tr>\n",
       "    <tr>\n",
       "      <th>1</th>\n",
       "      <td>worthless</td>\n",
       "      <td>No one likes me.</td>\n",
       "      <td>Let's discuss further why you're feeling this ...</td>\n",
       "    </tr>\n",
       "    <tr>\n",
       "      <th>2</th>\n",
       "      <td>worthless</td>\n",
       "      <td>I can't do anything.</td>\n",
       "      <td>I first want to let you know that you are not ...</td>\n",
       "    </tr>\n",
       "    <tr>\n",
       "      <th>3</th>\n",
       "      <td>worthless</td>\n",
       "      <td>I am so useless</td>\n",
       "      <td>you can always change your feelings and change...</td>\n",
       "    </tr>\n",
       "    <tr>\n",
       "      <th>4</th>\n",
       "      <td>worthless</td>\n",
       "      <td>Nothing makes sense anymore</td>\n",
       "      <td>i first want to let you know that you are not ...</td>\n",
       "    </tr>\n",
       "    <tr>\n",
       "      <th>...</th>\n",
       "      <td>...</td>\n",
       "      <td>...</td>\n",
       "      <td>...</td>\n",
       "    </tr>\n",
       "    <tr>\n",
       "      <th>170</th>\n",
       "      <td>scared</td>\n",
       "      <td>I freaked out</td>\n",
       "      <td>What can I do to help right now?</td>\n",
       "    </tr>\n",
       "    <tr>\n",
       "      <th>171</th>\n",
       "      <td>scared</td>\n",
       "      <td>I am so freaked out now</td>\n",
       "      <td>You can always talk to me</td>\n",
       "    </tr>\n",
       "    <tr>\n",
       "      <th>172</th>\n",
       "      <td>scared</td>\n",
       "      <td>I am so freaked out right now</td>\n",
       "      <td>Let's sort through this together</td>\n",
       "    </tr>\n",
       "    <tr>\n",
       "      <th>173</th>\n",
       "      <td>scared</td>\n",
       "      <td>I am so sketched out now</td>\n",
       "      <td>Don't be afraid, we are in this together</td>\n",
       "    </tr>\n",
       "    <tr>\n",
       "      <th>174</th>\n",
       "      <td>scared</td>\n",
       "      <td>I am so sketched out right now.</td>\n",
       "      <td>Don't be afraid, tell me what's going to</td>\n",
       "    </tr>\n",
       "  </tbody>\n",
       "</table>\n",
       "<p>175 rows × 3 columns</p>\n",
       "</div>"
      ],
      "text/plain": [
       "           tag                          patterns  \\\n",
       "0    worthless              I feel so worthless.   \n",
       "1    worthless                  No one likes me.   \n",
       "2    worthless              I can't do anything.   \n",
       "3    worthless                   I am so useless   \n",
       "4    worthless       Nothing makes sense anymore   \n",
       "..         ...                               ...   \n",
       "170     scared                    I freaked out    \n",
       "171     scared          I am so freaked out now    \n",
       "172     scared    I am so freaked out right now    \n",
       "173     scared         I am so sketched out now    \n",
       "174     scared  I am so sketched out right now.    \n",
       "\n",
       "                                             responses  \n",
       "0    It's only natural to feel this way. Tell me mo...  \n",
       "1    Let's discuss further why you're feeling this ...  \n",
       "2    I first want to let you know that you are not ...  \n",
       "3    you can always change your feelings and change...  \n",
       "4    i first want to let you know that you are not ...  \n",
       "..                                                 ...  \n",
       "170                   What can I do to help right now?  \n",
       "171                          You can always talk to me  \n",
       "172                   Let's sort through this together  \n",
       "173          Don't be afraid, we are in this together   \n",
       "174           Don't be afraid, tell me what's going to  \n",
       "\n",
       "[175 rows x 3 columns]"
      ]
     },
     "execution_count": 19,
     "metadata": {},
     "output_type": "execute_result"
    }
   ],
   "source": [
    "#Load data_2 for the project \n",
    "df = pd.read_csv('data_2.csv')\n",
    "df\n"
   ]
  }
 ],
 "metadata": {
  "kernelspec": {
   "display_name": "Python 3.10.5 ('anly-501')",
   "language": "python",
   "name": "python3"
  },
  "language_info": {
   "codemirror_mode": {
    "name": "ipython",
    "version": 3
   },
   "file_extension": ".py",
   "mimetype": "text/x-python",
   "name": "python",
   "nbconvert_exporter": "python",
   "pygments_lexer": "ipython3",
   "version": "3.10.5"
  },
  "orig_nbformat": 4,
  "vscode": {
   "interpreter": {
    "hash": "b2887d34597dee235d56d1c983b154cb0b5626723b6ce94c734c97860a5f2ad3"
   }
  }
 },
 "nbformat": 4,
 "nbformat_minor": 2
}
