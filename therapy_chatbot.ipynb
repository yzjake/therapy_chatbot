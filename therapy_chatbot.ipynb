{
 "cells": [
  {
   "cell_type": "code",
   "execution_count": null,
   "metadata": {},
   "outputs": [],
   "source": [
    "##Class: ANLY-580_03\n",
    "##Professor: Trevor Adriaanse\n",
    "##Topic: Therapy Chatbot\n",
    "##Team Member: Xinran Zhang, Qian Chen, Ting Huang, Yifan(Jake) Zhu"
   ]
  }
 ],
 "metadata": {
  "language_info": {
   "name": "python"
  },
  "orig_nbformat": 4
 },
 "nbformat": 4,
 "nbformat_minor": 2
}
